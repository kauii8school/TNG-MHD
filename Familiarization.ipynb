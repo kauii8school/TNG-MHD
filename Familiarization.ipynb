{
 "cells": [
  {
   "cell_type": "markdown",
   "metadata": {},
   "source": [
    "## Familiarization of TNG Data Acess\n",
    "### Goals\n",
    "\n",
    "* Graph 3D time-dependent distribution of things (e.g. stellar mass, Europeum, star formation rate)"
   ]
  },
  {
   "cell_type": "code",
   "execution_count": 1,
   "metadata": {},
   "outputs": [],
   "source": [
    "import requests\n",
    "import h5py\n",
    "import numpy as np\n",
    "import matplotlib.pyplot as plt"
   ]
  },
  {
   "cell_type": "code",
   "execution_count": 2,
   "metadata": {},
   "outputs": [],
   "source": [
    "base_url = 'http://www.tng-project.org/api/'\n",
    "headers = {'api-key': '869b608c817d0a731e5439be3345bdf7'}"
   ]
  },
  {
   "cell_type": "code",
   "execution_count": 3,
   "metadata": {},
   "outputs": [],
   "source": [
    "def get(path, params=None):\n",
    "    # make HTTP GET request to path\n",
    "    r = requests.get(path, params=params, headers=headers)\n",
    "\n",
    "    # raise exception if response code is not HTTP SUCCESS (200)\n",
    "    r.raise_for_status()\n",
    "\n",
    "    if r.headers['content-type'] == 'application/json':\n",
    "        return r.json() # parse json responses automatically\n",
    "\n",
    "    if 'content-disposition' in r.headers:\n",
    "        filename = r.headers['content-disposition'].split(\"filename=\")[1]\n",
    "        with open(filename, 'wb') as f:\n",
    "            f.write(r.content)\n",
    "        return filename # return the filename string\n",
    "\n",
    "    return r"
   ]
  },
  {
   "cell_type": "code",
   "execution_count": 6,
   "metadata": {},
   "outputs": [],
   "source": [
    "r = get(base_url)\n",
    "name_list = [sim['name'] for sim in r['simulations']]\n",
    "index = name_list.index('Illustris-3')\n",
    "sim = get(r['simulations'][index]['url'])"
   ]
  },
  {
   "cell_type": "code",
   "execution_count": null,
   "metadata": {},
   "outputs": [],
   "source": [
    "#var inits\n",
    "total_star_masses, total_sfr = 0, 0\n",
    "snap_vars = []\n",
    "\n",
    "#Getting all snapshots\n",
    "snaps_json = get(sim['snapshots'])\n",
    "for i in range(0, len(snaps_json)):\n",
    "\n",
    "    #Getting snap\n",
    "    snap = get(snaps_json[i]['url'])\n",
    "    snap_num = snap['number']\n",
    "    snap_file = get(snap['files']['snapshot'])\n",
    "\n",
    "    #Getting all chuncks\n",
    "    for j in range(0, len(snap_file['files'])):\n",
    "        file = snap_file['files'][j]\n",
    "        cutout = get(file, {'gas':'StarFormationRate', 'stars':'Masses'})\n",
    "        \n",
    "        with h5py.File(cutout,'r') as f:\n",
    "            \n",
    "            try:\n",
    "                star_masses = sum(f['PartType4']['Masses'][:])\n",
    "            except KeyError:\n",
    "                star_masses = 0\n",
    "                \n",
    "            try:\n",
    "                star_formationRate = f['PartType0']['StarFormationRate'][:]\n",
    "            except KeyError:\n",
    "                star_formationRate = 0\n",
    "        \n",
    "        total_star_masses += star_masses\n",
    "        snap_vars.append((snap_num, total_star_masses))\n",
    "        \n",
    "snap_vars"
   ]
  },
  {
   "cell_type": "code",
   "execution_count": 86,
   "metadata": {},
   "outputs": [
    {
     "name": "stdout",
     "output_type": "stream",
     "text": [
      "31.18910099961795 [0. 0. 0. ... 0. 0. 0.]\n"
     ]
    }
   ],
   "source": [
    "\n",
    "print(star_masses, star_formationRate)"
   ]
  },
  {
   "cell_type": "markdown",
   "metadata": {},
   "source": [
    "There are a lot of variables and sometimes it is hard to remember what each one of them mean, this link http://www.tng-project.org/data/docs/specifications/#sec1a gives a description of all of these variables and a basic structure of the API."
   ]
  }
 ],
 "metadata": {
  "kernelspec": {
   "display_name": "Python 3",
   "language": "python",
   "name": "python3"
  },
  "language_info": {
   "codemirror_mode": {
    "name": "ipython",
    "version": 3
   },
   "file_extension": ".py",
   "mimetype": "text/x-python",
   "name": "python",
   "nbconvert_exporter": "python",
   "pygments_lexer": "ipython3",
   "version": "3.7.3"
  }
 },
 "nbformat": 4,
 "nbformat_minor": 2
}
